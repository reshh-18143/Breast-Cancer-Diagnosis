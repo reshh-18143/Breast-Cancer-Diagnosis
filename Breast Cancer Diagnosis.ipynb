{
  "nbformat": 4,
  "nbformat_minor": 0,
  "metadata": {
    "colab": {
      "provenance": []
    },
    "kernelspec": {
      "name": "python3",
      "display_name": "Python 3"
    },
    "language_info": {
      "name": "python"
    }
  },
  "cells": [
    {
      "cell_type": "code",
      "execution_count": 38,
      "metadata": {
        "id": "V502i6uQEFv9"
      },
      "outputs": [],
      "source": [
        "import numpy as np\n",
        "import pandas as pd\n",
        "import matplotlib.pyplot as plt"
      ]
    },
    {
      "cell_type": "code",
      "source": [
        "data = pd.read_csv(\"data.csv\")\n",
        "print (data)"
      ],
      "metadata": {
        "colab": {
          "base_uri": "https://localhost:8080/"
        },
        "id": "Pb1SiDqHERXe",
        "outputId": "069e6c0d-e54e-4bad-b1ed-8006089e4839"
      },
      "execution_count": 67,
      "outputs": [
        {
          "output_type": "stream",
          "name": "stdout",
          "text": [
            "           id diagnosis  radius_mean  texture_mean  perimeter_mean  area_mean  \\\n",
            "0      842302         M        17.99         10.38          122.80     1001.0   \n",
            "1      842517         M        20.57         17.77          132.90     1326.0   \n",
            "2    84300903         M        19.69         21.25          130.00     1203.0   \n",
            "3    84348301         M        11.42         20.38           77.58      386.1   \n",
            "4    84358402         M        20.29         14.34          135.10     1297.0   \n",
            "..        ...       ...          ...           ...             ...        ...   \n",
            "564    926424         M        21.56         22.39          142.00     1479.0   \n",
            "565    926682         M        20.13         28.25          131.20     1261.0   \n",
            "566    926954         M        16.60         28.08          108.30      858.1   \n",
            "567    927241         M        20.60         29.33          140.10     1265.0   \n",
            "568     92751         B         7.76         24.54           47.92      181.0   \n",
            "\n",
            "     smoothness_mean  compactness_mean  concavity_mean  concave points_mean  \\\n",
            "0            0.11840           0.27760         0.30010              0.14710   \n",
            "1            0.08474           0.07864         0.08690              0.07017   \n",
            "2            0.10960           0.15990         0.19740              0.12790   \n",
            "3            0.14250           0.28390         0.24140              0.10520   \n",
            "4            0.10030           0.13280         0.19800              0.10430   \n",
            "..               ...               ...             ...                  ...   \n",
            "564          0.11100           0.11590         0.24390              0.13890   \n",
            "565          0.09780           0.10340         0.14400              0.09791   \n",
            "566          0.08455           0.10230         0.09251              0.05302   \n",
            "567          0.11780           0.27700         0.35140              0.15200   \n",
            "568          0.05263           0.04362         0.00000              0.00000   \n",
            "\n",
            "     ...  texture_worst  perimeter_worst  area_worst  smoothness_worst  \\\n",
            "0    ...          17.33           184.60      2019.0           0.16220   \n",
            "1    ...          23.41           158.80      1956.0           0.12380   \n",
            "2    ...          25.53           152.50      1709.0           0.14440   \n",
            "3    ...          26.50            98.87       567.7           0.20980   \n",
            "4    ...          16.67           152.20      1575.0           0.13740   \n",
            "..   ...            ...              ...         ...               ...   \n",
            "564  ...          26.40           166.10      2027.0           0.14100   \n",
            "565  ...          38.25           155.00      1731.0           0.11660   \n",
            "566  ...          34.12           126.70      1124.0           0.11390   \n",
            "567  ...          39.42           184.60      1821.0           0.16500   \n",
            "568  ...          30.37            59.16       268.6           0.08996   \n",
            "\n",
            "     compactness_worst  concavity_worst  concave points_worst  symmetry_worst  \\\n",
            "0              0.66560           0.7119                0.2654          0.4601   \n",
            "1              0.18660           0.2416                0.1860          0.2750   \n",
            "2              0.42450           0.4504                0.2430          0.3613   \n",
            "3              0.86630           0.6869                0.2575          0.6638   \n",
            "4              0.20500           0.4000                0.1625          0.2364   \n",
            "..                 ...              ...                   ...             ...   \n",
            "564            0.21130           0.4107                0.2216          0.2060   \n",
            "565            0.19220           0.3215                0.1628          0.2572   \n",
            "566            0.30940           0.3403                0.1418          0.2218   \n",
            "567            0.86810           0.9387                0.2650          0.4087   \n",
            "568            0.06444           0.0000                0.0000          0.2871   \n",
            "\n",
            "     fractal_dimension_worst  Unnamed: 32  \n",
            "0                    0.11890          NaN  \n",
            "1                    0.08902          NaN  \n",
            "2                    0.08758          NaN  \n",
            "3                    0.17300          NaN  \n",
            "4                    0.07678          NaN  \n",
            "..                       ...          ...  \n",
            "564                  0.07115          NaN  \n",
            "565                  0.06637          NaN  \n",
            "566                  0.07820          NaN  \n",
            "567                  0.12400          NaN  \n",
            "568                  0.07039          NaN  \n",
            "\n",
            "[569 rows x 33 columns]\n"
          ]
        }
      ]
    },
    {
      "cell_type": "code",
      "source": [
        "data.info()"
      ],
      "metadata": {
        "colab": {
          "base_uri": "https://localhost:8080/"
        },
        "id": "W452ZDe5ERZv",
        "outputId": "38a6f278-a6b0-4eba-cdae-58705ecebe70"
      },
      "execution_count": 68,
      "outputs": [
        {
          "output_type": "stream",
          "name": "stdout",
          "text": [
            "<class 'pandas.core.frame.DataFrame'>\n",
            "RangeIndex: 569 entries, 0 to 568\n",
            "Data columns (total 33 columns):\n",
            " #   Column                   Non-Null Count  Dtype  \n",
            "---  ------                   --------------  -----  \n",
            " 0   id                       569 non-null    int64  \n",
            " 1   diagnosis                569 non-null    object \n",
            " 2   radius_mean              569 non-null    float64\n",
            " 3   texture_mean             569 non-null    float64\n",
            " 4   perimeter_mean           569 non-null    float64\n",
            " 5   area_mean                569 non-null    float64\n",
            " 6   smoothness_mean          569 non-null    float64\n",
            " 7   compactness_mean         569 non-null    float64\n",
            " 8   concavity_mean           569 non-null    float64\n",
            " 9   concave points_mean      569 non-null    float64\n",
            " 10  symmetry_mean            569 non-null    float64\n",
            " 11  fractal_dimension_mean   569 non-null    float64\n",
            " 12  radius_se                569 non-null    float64\n",
            " 13  texture_se               569 non-null    float64\n",
            " 14  perimeter_se             569 non-null    float64\n",
            " 15  area_se                  569 non-null    float64\n",
            " 16  smoothness_se            569 non-null    float64\n",
            " 17  compactness_se           569 non-null    float64\n",
            " 18  concavity_se             569 non-null    float64\n",
            " 19  concave points_se        569 non-null    float64\n",
            " 20  symmetry_se              569 non-null    float64\n",
            " 21  fractal_dimension_se     569 non-null    float64\n",
            " 22  radius_worst             569 non-null    float64\n",
            " 23  texture_worst            569 non-null    float64\n",
            " 24  perimeter_worst          569 non-null    float64\n",
            " 25  area_worst               569 non-null    float64\n",
            " 26  smoothness_worst         569 non-null    float64\n",
            " 27  compactness_worst        569 non-null    float64\n",
            " 28  concavity_worst          569 non-null    float64\n",
            " 29  concave points_worst     569 non-null    float64\n",
            " 30  symmetry_worst           569 non-null    float64\n",
            " 31  fractal_dimension_worst  569 non-null    float64\n",
            " 32  Unnamed: 32              0 non-null      float64\n",
            "dtypes: float64(31), int64(1), object(1)\n",
            "memory usage: 146.8+ KB\n"
          ]
        }
      ]
    },
    {
      "cell_type": "code",
      "source": [
        "data.drop(['Unnamed: 32','id'], axis = 1)\n",
        "data.diagnosis = [1 if each == \"M\" else 0 for each in data.diagnosis]"
      ],
      "metadata": {
        "id": "3zJnngCxERb6"
      },
      "execution_count": 69,
      "outputs": []
    },
    {
      "cell_type": "code",
      "source": [
        "y = data.diagnosis.values\n",
        "x_data = data.drop(['diagnosis'], axis = 1)"
      ],
      "metadata": {
        "id": "Y5IH9rk6EReT"
      },
      "execution_count": 42,
      "outputs": []
    },
    {
      "cell_type": "code",
      "source": [
        "x = (x_data - np.min(x_data))/(np.max(x_data) - np.min(x_data))"
      ],
      "metadata": {
        "id": "V1tQkm1VERgt"
      },
      "execution_count": 70,
      "outputs": []
    },
    {
      "cell_type": "code",
      "source": [
        "from sklearn.model_selection import train_test_split\n",
        "x_train, x_test, y_train, y_test = train_test_split(\n",
        "    x, y, test_size = 0.15, random_state = 42)\n",
        "\n",
        "x_train = x_train.T\n",
        "x_test = x_test.T\n",
        "y_train = y_train.T\n",
        "y_test = y_test.T\n",
        "\n",
        "print(\"x train: \", x_train.shape)\n",
        "print(\"x test: \", x_test.shape)\n",
        "print(\"y train: \", y_train.shape)\n",
        "print(\"y test: \", y_test.shape)"
      ],
      "metadata": {
        "colab": {
          "base_uri": "https://localhost:8080/"
        },
        "id": "LQFsQfPzERkI",
        "outputId": "a65b8783-4071-48fa-c893-7145fa88eb1d"
      },
      "execution_count": 71,
      "outputs": [
        {
          "output_type": "stream",
          "name": "stdout",
          "text": [
            "x train:  (32, 483)\n",
            "x test:  (32, 86)\n",
            "y train:  (483,)\n",
            "y test:  (86,)\n"
          ]
        }
      ]
    },
    {
      "cell_type": "code",
      "source": [
        "def initialize_weights_and_bias(dimension):\n",
        "    w = np.full((dimension, 1), 0.01)\n",
        "    b = 0.0\n",
        "    return w, b\n",
        "    print(type(y_train), y_train.dtype)\n",
        "    print(type(y_test), y_test.dtype)\n",
        "    y_train = y_train.astype(float)\n",
        "    y_test = y_test.astype(float)\n"
      ],
      "metadata": {
        "id": "aebMOkcEFd0H"
      },
      "execution_count": 72,
      "outputs": []
    },
    {
      "cell_type": "code",
      "source": [
        "# z = np.dot(w.T, x_train)+b\n",
        "def sigmoid(z):\n",
        "    return 1 / (1 + np.exp(-np.clip(z, -500, 500)))\n"
      ],
      "metadata": {
        "id": "sDgaeD1RHkDH"
      },
      "execution_count": 61,
      "outputs": []
    },
    {
      "cell_type": "code",
      "source": [
        "def forward_backward_propagation(w, b, x_train, y_train):\n",
        "    m = x_train.shape[1]\n",
        "    z = np.dot(w.T, x_train) + b\n",
        "    a = sigmoid(z)\n",
        "\n",
        "    epsilon = 1e-15\n",
        "    cost = (-1 / m) * np.sum(y_train * np.log(a + epsilon) + (1 - y_train) * np.log(1 - a + epsilon))\n",
        "\n",
        "    dw = (1 / m) * np.dot(x_train, (a - y_train).T)\n",
        "    db = (1 / m) * np.sum(a - y_train)\n",
        "\n",
        "    gradients = {\"derivative_weight\": dw, \"derivative_bias\": db}\n",
        "    return cost, gradients\n",
        "        derivative_weight = (np.dot(x_train, (\n",
        "        (y_head - y_train).T))) / x_train.shape[1]\n",
        "    derivative_bias = np.sum(\n",
        "        y_head-y_train) / x_train.shape[1]\n",
        "    gradients = {\"derivative_weight\": derivative_weight,\n",
        "                 \"derivative_bias\": derivative_bias}\n",
        "    return cost, gradients\n"
      ],
      "metadata": {
        "id": "2n2lPD1THzbB"
      },
      "execution_count": 73,
      "outputs": []
    },
    {
      "cell_type": "code",
      "source": [
        "np.random.seed(0)\n",
        "x_train = np.random.rand(2, 100)\n",
        "y_train = (x_train[0, :] + x_train[1, :] > 1).astype(int).reshape(1, 100)\n",
        "\n",
        "x_test = np.random.rand(2, 20)\n",
        "y_test = (x_test[0, :] + x_test[1, :] > 1).astype(int).reshape(1, 20)\n"
      ],
      "metadata": {
        "id": "4IgLJGzCIbtu"
      },
      "execution_count": 74,
      "outputs": []
    },
    {
      "cell_type": "code",
      "source": [
        "def update(w, b, x_train, y_train, learning_rate, num_iterations):\n",
        "    cost_list = []\n",
        "    cost_list2 = []\n",
        "    index = []\n",
        "\n",
        "    for i in range(num_iterations):\n",
        "        cost, gradients = forward_backward_propagation(w, b, x_train, y_train)\n",
        "        cost_list.append(cost)\n",
        "\n",
        "        w -= learning_rate * gradients[\"derivative_weight\"]\n",
        "        b -= learning_rate * gradients[\"derivative_bias\"]\n",
        "\n",
        "        if i % 10 == 0:\n",
        "            cost_list2.append(cost)\n",
        "            index.append(i)\n",
        "            print(\"Cost after iteration %i: %f\" % (i, cost))\n",
        "\n",
        "    parameters = {\"weight\": w, \"bias\": b}\n",
        "    plt.plot(index, cost_list2)\n",
        "    plt.xticks(index, rotation='vertical')\n",
        "    plt.xlabel(\"Number of Iterations\")\n",
        "    plt.ylabel(\"Cost\")\n",
        "    plt.title(\"Cost Reduction Over Iterations\")\n",
        "    plt.show()\n",
        "\n",
        "    return parameters, gradients, cost_list\n",
        "\n"
      ],
      "metadata": {
        "id": "irzMLH1iHzdi"
      },
      "execution_count": 75,
      "outputs": []
    },
    {
      "cell_type": "code",
      "source": [
        "def predict(w, b, x_test):\n",
        "    z = sigmoid(np.dot(w.T, x_test) + b)\n",
        "    Y_prediction = np.zeros((1, x_test.shape[1]))\n",
        "    for i in range(z.shape[1]):\n",
        "        Y_prediction[0, i] = 1 if z[0, i] > 0.5 else 0\n",
        "    return Y_prediction"
      ],
      "metadata": {
        "id": "Jpj8OCvaIoUC"
      },
      "execution_count": 76,
      "outputs": []
    },
    {
      "cell_type": "code",
      "source": [
        "def logistic_regression(x_train, y_train, x_test, y_test, learning_rate, num_iterations):\n",
        "    dimension = x_train.shape[0]\n",
        "    w, b = initialize_weights_and_bias(dimension)\n",
        "\n",
        "    parameters, gradients, cost_list = update(w, b, x_train, y_train, learning_rate, num_iterations)\n",
        "\n",
        "    y_prediction_test = predict(parameters[\"weight\"], parameters[\"bias\"], x_test)\n",
        "    y_prediction_train = predict(parameters[\"weight\"], parameters[\"bias\"], x_train)\n",
        "\n",
        "    print(\"Train accuracy: {} %\".format(100 - np.mean(np.abs(y_prediction_train - y_train)) * 100))\n",
        "    print(\"Test accuracy: {} %\".format(100 - np.mean(np.abs(y_prediction_test - y_test)) * 100))\n",
        "\n",
        "np.random.seed(0)\n",
        "x_train = np.random.rand(2, 100)\n",
        "y_train = (x_train[0, :] + x_train[1, :] > 1).astype(int).reshape(1, 100)\n",
        "\n",
        "x_test = np.random.rand(2, 20)\n",
        "y_test = (x_test[0, :] + x_test[1, :] > 1).astype(int).reshape(1, 20)\n",
        "\n",
        "logistic_regression(x_train, y_train, x_test, y_test, learning_rate=1, num_iterations=100)"
      ],
      "metadata": {
        "colab": {
          "base_uri": "https://localhost:8080/",
          "height": 683
        },
        "id": "iSDO0opuHzjY",
        "outputId": "7053ebe8-8e1b-480c-9bb5-28efcfada738"
      },
      "execution_count": 77,
      "outputs": [
        {
          "output_type": "stream",
          "name": "stdout",
          "text": [
            "Cost after iteration 0: 0.690947\n",
            "Cost after iteration 10: 0.593383\n",
            "Cost after iteration 20: 0.536100\n",
            "Cost after iteration 30: 0.490326\n",
            "Cost after iteration 40: 0.453260\n",
            "Cost after iteration 50: 0.422794\n",
            "Cost after iteration 60: 0.397376\n",
            "Cost after iteration 70: 0.375870\n",
            "Cost after iteration 80: 0.357438\n",
            "Cost after iteration 90: 0.341456\n"
          ]
        },
        {
          "output_type": "display_data",
          "data": {
            "text/plain": [
              "<Figure size 640x480 with 1 Axes>"
            ],
            "image/png": "[encoded data removed]"
          },
          "metadata": {}
        },
        {
          "output_type": "stream",
          "name": "stdout",
          "text": [
            "Train accuracy: 93.0 %\n",
            "Test accuracy: 90.0 %\n"
          ]
        }
      ]
    }
  ]
}